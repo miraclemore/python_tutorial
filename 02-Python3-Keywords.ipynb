{
 "cells": [
  {
   "cell_type": "markdown",
   "source": [
    "# Python3 Keywords"
   ],
   "metadata": {
    "collapsed": false
   }
  },
  {
   "cell_type": "markdown",
   "source": [
    "## Keywords"
   ],
   "metadata": {
    "collapsed": false
   }
  },
  {
   "cell_type": "code",
   "execution_count": 19,
   "outputs": [
    {
     "name": "stdout",
     "output_type": "stream",
     "text": [
      "The list of keywords is : \n",
      "['False', 'None', 'True', '__peg_parser__', 'and', 'as', 'assert', 'async', 'await', 'break', 'class', 'continue', 'def', 'del', 'elif', 'else', 'except', 'finally', 'for', 'from', 'global', 'if', 'import', 'in', 'is', 'lambda', 'nonlocal', 'not', 'or', 'pass', 'raise', 'return', 'try', 'while', 'with', 'yield']\n"
     ]
    }
   ],
   "source": [
    "## Keywords\n",
    "# importing \"keyword\" for keyword operations\n",
    "import keyword\n",
    "\n",
    "# printing all keywords at once using \"kwlist()\"\n",
    "print(\"The list of keywords is : \")\n",
    "print(keyword.kwlist)"
   ],
   "metadata": {
    "collapsed": false,
    "ExecuteTime": {
     "start_time": "2023-05-04T22:05:28.802443Z",
     "end_time": "2023-05-04T22:05:28.866825Z"
    }
   }
  },
  {
   "cell_type": "markdown",
   "source": [
    "## True / False / None"
   ],
   "metadata": {
    "collapsed": false
   }
  },
  {
   "cell_type": "code",
   "execution_count": 20,
   "outputs": [
    {
     "name": "stdout",
     "output_type": "stream",
     "text": [
      "True\n",
      "True\n",
      "3\n",
      "1\n",
      "False\n",
      "False\n"
     ]
    }
   ],
   "source": [
    "print(False == 0)\n",
    "print(True == 1)\n",
    "\n",
    "print(True + True + True)\n",
    "print(True + False + False)\n",
    "\n",
    "print(None == 0)\n",
    "print(None == [])"
   ],
   "metadata": {
    "collapsed": false,
    "ExecuteTime": {
     "start_time": "2023-05-04T22:05:28.808154Z",
     "end_time": "2023-05-04T22:05:28.867238Z"
    }
   }
  },
  {
   "cell_type": "markdown",
   "source": [
    "## and, or, not, in, is"
   ],
   "metadata": {
    "collapsed": false
   }
  },
  {
   "cell_type": "code",
   "execution_count": 21,
   "outputs": [
    {
     "name": "stdout",
     "output_type": "stream",
     "text": [
      "True\n",
      "False\n",
      "False\n",
      "s is part of geeksforgeeks\n",
      "g e e k s f o r g e e k s \r\n",
      "True\n",
      "True\n"
     ]
    }
   ],
   "source": [
    "# showing logical operation\n",
    "# or (returns True)\n",
    "print(True or False)\n",
    "\n",
    "# showing logical operation\n",
    "# and (returns False)\n",
    "print(False and True)\n",
    "\n",
    "# showing logical operation\n",
    "# not (returns False)\n",
    "print(not True)\n",
    "\n",
    "# using \"in\" to check\n",
    "if 's' in 'geeksforgeeks':\n",
    "    print(\"s is part of geeksforgeeks\")\n",
    "else:\n",
    "    print(\"s is not part of geeksforgeeks\")\n",
    "\n",
    "# using \"in\" to loop through\n",
    "for i in 'geeksforgeeks':\n",
    "    print(i, end=\" \")\n",
    "\n",
    "print(\"\\r\")\n",
    "\n",
    "# using is to check object identity\n",
    "# string is immutable( cannot be changed once allocated)\n",
    "# hence occupy same memory location\n",
    "print(' ' == ' ')\n",
    "\n",
    "# using is to check object identity\n",
    "# dictionary is mutable( can be changed once allocated)\n",
    "# hence occupy different memory location\n",
    "print({} == {})"
   ],
   "metadata": {
    "collapsed": false,
    "ExecuteTime": {
     "start_time": "2023-05-04T22:05:28.813802Z",
     "end_time": "2023-05-04T22:05:28.867825Z"
    }
   }
  },
  {
   "cell_type": "markdown",
   "source": [
    "## for, while, break, continue"
   ],
   "metadata": {
    "collapsed": false
   }
  },
  {
   "cell_type": "code",
   "execution_count": 22,
   "outputs": [
    {
     "name": "stdout",
     "output_type": "stream",
     "text": [
      "0 1 2 3 4 5 6 \n",
      "0 1 2 3 4 5 7 8 9 "
     ]
    }
   ],
   "source": [
    "# Using for loop\n",
    "for i in range(10):\n",
    "    print(i, end=\" \")\n",
    "    # break the loop as soon it sees 6\n",
    "    if i == 6:\n",
    "        break\n",
    "\n",
    "print()\n",
    "\n",
    "# loop from 1 to 10\n",
    "i = 0\n",
    "while i < 10:\n",
    "    # If i equals to 6,\n",
    "    # continue to next iteration\n",
    "    # without printing\n",
    "    if i == 6:\n",
    "        i += 1\n",
    "        continue\n",
    "    else:\n",
    "        # otherwise print the value\n",
    "        # of i\n",
    "        print(i, end=\" \")\n",
    "    i += 1"
   ],
   "metadata": {
    "collapsed": false,
    "ExecuteTime": {
     "start_time": "2023-05-04T22:05:28.818100Z",
     "end_time": "2023-05-04T22:05:28.907060Z"
    }
   }
  },
  {
   "cell_type": "markdown",
   "source": [
    "## if, else, elif"
   ],
   "metadata": {
    "collapsed": false
   }
  },
  {
   "cell_type": "code",
   "execution_count": 23,
   "outputs": [
    {
     "name": "stdout",
     "output_type": "stream",
     "text": [
      "i is 20\n"
     ]
    }
   ],
   "source": [
    "# Python program to illustrate if-elif-else ladder\n",
    "i = 20\n",
    "if i == 10:\n",
    "    print(\"i is 10\")\n",
    "elif i == 20:\n",
    "    print(\"i is 20\")\n",
    "else:\n",
    "    print(\"i is not present\")"
   ],
   "metadata": {
    "collapsed": false,
    "ExecuteTime": {
     "start_time": "2023-05-04T22:05:28.824422Z",
     "end_time": "2023-05-04T22:05:28.907632Z"
    }
   }
  },
  {
   "cell_type": "markdown",
   "source": [
    "## def"
   ],
   "metadata": {
    "collapsed": false
   }
  },
  {
   "cell_type": "code",
   "execution_count": 24,
   "outputs": [
    {
     "name": "stdout",
     "output_type": "stream",
     "text": [
      "Inside Function\n"
     ]
    }
   ],
   "source": [
    "# def keyword\n",
    "def fun():\n",
    "    print(\"Inside Function\")\n",
    "\n",
    "fun()"
   ],
   "metadata": {
    "collapsed": false,
    "ExecuteTime": {
     "start_time": "2023-05-04T22:05:28.828464Z",
     "end_time": "2023-05-04T22:05:28.907979Z"
    }
   }
  },
  {
   "cell_type": "markdown",
   "source": [
    "## return, yield"
   ],
   "metadata": {
    "collapsed": false
   }
  },
  {
   "cell_type": "code",
   "execution_count": 25,
   "outputs": [
    {
     "name": "stdout",
     "output_type": "stream",
     "text": [
      "45\n",
      "\n",
      "0 1 3 6 10 15 21 28 36 45 "
     ]
    }
   ],
   "source": [
    "# Return keyword\n",
    "def fun():\n",
    "    s = 0\n",
    "    for i in range(10):\n",
    "        s += i\n",
    "    return s\n",
    "\n",
    "\n",
    "print(fun())\n",
    "\n",
    "print()\n",
    "\n",
    "\n",
    "# Yield Keyword\n",
    "def fun():\n",
    "    s = 0\n",
    "    for i in range(10):\n",
    "        s += i\n",
    "        yield s\n",
    "\n",
    "\n",
    "for i in fun():\n",
    "    print(i, end=\" \")"
   ],
   "metadata": {
    "collapsed": false,
    "ExecuteTime": {
     "start_time": "2023-05-04T22:05:28.832823Z",
     "end_time": "2023-05-04T22:05:28.908351Z"
    }
   }
  },
  {
   "cell_type": "markdown",
   "source": [
    "## class"
   ],
   "metadata": {
    "collapsed": false
   }
  },
  {
   "cell_type": "code",
   "execution_count": 26,
   "outputs": [
    {
     "name": "stdout",
     "output_type": "stream",
     "text": [
      "mammal\n",
      "I'm a mammal\n",
      "I'm a dog\n"
     ]
    }
   ],
   "source": [
    "class Dog:\n",
    "    # A simple class\n",
    "    # attribute\n",
    "    attr1 = \"mammal\"\n",
    "    attr2 = \"dog\"\n",
    "\n",
    "    # A sample method\n",
    "    def fun(self):\n",
    "        print(\"I'm a\", self.attr1)\n",
    "        print(\"I'm a\", self.attr2)\n",
    "\n",
    "\n",
    "# Driver code\n",
    "# Object instantiation\n",
    "Rodger = Dog()\n",
    "\n",
    "# Accessing class attributes\n",
    "# and method through objects\n",
    "print(Rodger.attr1)\n",
    "Rodger.fun()"
   ],
   "metadata": {
    "collapsed": false,
    "ExecuteTime": {
     "start_time": "2023-05-04T22:05:28.836548Z",
     "end_time": "2023-05-04T22:05:28.908670Z"
    }
   }
  },
  {
   "cell_type": "markdown",
   "source": [
    "## with"
   ],
   "metadata": {
    "collapsed": false
   }
  },
  {
   "cell_type": "code",
   "execution_count": 27,
   "outputs": [],
   "source": [
    "# using with statement\n",
    "with open('file_path', 'w') as file:\n",
    "    file.write('hello world !')"
   ],
   "metadata": {
    "collapsed": false,
    "ExecuteTime": {
     "start_time": "2023-05-04T22:05:28.838943Z",
     "end_time": "2023-05-04T22:05:28.909199Z"
    }
   }
  },
  {
   "cell_type": "markdown",
   "source": [
    "## as"
   ],
   "metadata": {
    "collapsed": false
   }
  },
  {
   "cell_type": "code",
   "execution_count": 28,
   "outputs": [
    {
     "name": "stdout",
     "output_type": "stream",
     "text": [
      "120\n"
     ]
    }
   ],
   "source": [
    "import math as gfg\n",
    "\n",
    "print(gfg.factorial(5))"
   ],
   "metadata": {
    "collapsed": false,
    "ExecuteTime": {
     "start_time": "2023-05-04T22:05:28.842726Z",
     "end_time": "2023-05-04T22:05:28.909323Z"
    }
   }
  },
  {
   "cell_type": "markdown",
   "source": [
    "## pass"
   ],
   "metadata": {
    "collapsed": false
   }
  },
  {
   "cell_type": "code",
   "execution_count": 29,
   "outputs": [],
   "source": [
    "n = 10\n",
    "for i in range(n):\n",
    "    # pass can be used as placeholder\n",
    "    # when code is to added later\n",
    "    pass"
   ],
   "metadata": {
    "collapsed": false,
    "ExecuteTime": {
     "start_time": "2023-05-04T22:05:28.846622Z",
     "end_time": "2023-05-04T22:05:28.909608Z"
    }
   }
  },
  {
   "cell_type": "markdown",
   "source": [
    "## lambda"
   ],
   "metadata": {
    "collapsed": false
   }
  },
  {
   "cell_type": "code",
   "execution_count": 30,
   "outputs": [
    {
     "name": "stdout",
     "output_type": "stream",
     "text": [
      "343\n"
     ]
    }
   ],
   "source": [
    "# Lambda keyword\n",
    "g = lambda x: x ** 3\n",
    "\n",
    "print(g(7))"
   ],
   "metadata": {
    "collapsed": false,
    "ExecuteTime": {
     "start_time": "2023-05-04T22:05:28.849774Z",
     "end_time": "2023-05-04T22:05:28.909916Z"
    }
   }
  },
  {
   "cell_type": "markdown",
   "source": [
    "## import"
   ],
   "metadata": {
    "collapsed": false
   }
  },
  {
   "cell_type": "code",
   "execution_count": 31,
   "outputs": [
    {
     "name": "stdout",
     "output_type": "stream",
     "text": [
      "3628800\n",
      "3628800\n"
     ]
    }
   ],
   "source": [
    "# import keyword\n",
    "from math import factorial\n",
    "import math\n",
    "\n",
    "print(math.factorial(10))\n",
    "\n",
    "# from keyword\n",
    "print(factorial(10))"
   ],
   "metadata": {
    "collapsed": false,
    "ExecuteTime": {
     "start_time": "2023-05-04T22:05:28.853647Z",
     "end_time": "2023-05-04T22:05:28.910226Z"
    }
   }
  },
  {
   "cell_type": "markdown",
   "source": [
    "## try, except, finally, assert"
   ],
   "metadata": {
    "collapsed": false
   }
  },
  {
   "cell_type": "code",
   "execution_count": 32,
   "outputs": [
    {
     "name": "stdout",
     "output_type": "stream",
     "text": [
      "Can't divide by zero\n",
      "This is always executed\n",
      "The value of a / b is : \n"
     ]
    },
    {
     "ename": "AssertionError",
     "evalue": "Divide by 0 error",
     "output_type": "error",
     "traceback": [
      "\u001B[0;31m---------------------------------------------------------------------------\u001B[0m",
      "\u001B[0;31mAssertionError\u001B[0m                            Traceback (most recent call last)",
      "Cell \u001B[0;32mIn[32], line 22\u001B[0m\n\u001B[1;32m     19\u001B[0m \u001B[38;5;66;03m# assert Keyword\u001B[39;00m\n\u001B[1;32m     20\u001B[0m \u001B[38;5;66;03m# using assert to check for 0\u001B[39;00m\n\u001B[1;32m     21\u001B[0m \u001B[38;5;28mprint\u001B[39m(\u001B[38;5;124m\"\u001B[39m\u001B[38;5;124mThe value of a / b is : \u001B[39m\u001B[38;5;124m\"\u001B[39m)\n\u001B[0;32m---> 22\u001B[0m \u001B[38;5;28;01massert\u001B[39;00m b \u001B[38;5;241m!=\u001B[39m \u001B[38;5;241m0\u001B[39m, \u001B[38;5;124m\"\u001B[39m\u001B[38;5;124mDivide by 0 error\u001B[39m\u001B[38;5;124m\"\u001B[39m\n\u001B[1;32m     23\u001B[0m \u001B[38;5;28mprint\u001B[39m(a \u001B[38;5;241m/\u001B[39m b)\n",
      "\u001B[0;31mAssertionError\u001B[0m: Divide by 0 error"
     ]
    }
   ],
   "source": [
    "# initializing number\n",
    "a = 4\n",
    "b = 0\n",
    "\n",
    "# No exception Exception raised in try block\n",
    "try:\n",
    "    k = a // b  # raises divide by zero exception.\n",
    "    print(k)\n",
    "\n",
    "# handles zerodivision exception\n",
    "except ZeroDivisionError:\n",
    "    print(\"Can't divide by zero\")\n",
    "\n",
    "finally:\n",
    "    # this block is always executed\n",
    "    # regardless of exception generation.\n",
    "    print('This is always executed')\n",
    "\n",
    "# assert Keyword\n",
    "# using assert to check for 0\n",
    "print(\"The value of a / b is : \")\n",
    "assert b != 0, \"Divide by 0 error\"\n",
    "print(a / b)"
   ],
   "metadata": {
    "collapsed": false
   }
  },
  {
   "cell_type": "markdown",
   "source": [
    "## raise"
   ],
   "metadata": {
    "collapsed": false
   }
  },
  {
   "cell_type": "code",
   "execution_count": null,
   "outputs": [],
   "source": [
    "# raise keyword\n",
    "# Raises an user defined exception\n",
    "# if strings are not equal\n",
    "temp = \"geeks for geeks\"\n",
    "if temp != \"geeks\":\n",
    "    raise TypeError(\"Both the strings are different.\")\n",
    "my_variable1 = 20\n",
    "my_variable2 = \"GeeksForGeeks\""
   ],
   "metadata": {
    "collapsed": false
   }
  },
  {
   "cell_type": "markdown",
   "source": [
    "## del"
   ],
   "metadata": {
    "collapsed": false
   }
  },
  {
   "cell_type": "code",
   "execution_count": null,
   "outputs": [],
   "source": [
    "# check if my_variable1 and my_variable2 exists\n",
    "print(my_variable1)\n",
    "print(my_variable2)\n",
    "\n",
    "# delete both the variables\n",
    "del my_variable1\n",
    "del my_variable2\n",
    "\n",
    "# check if my_variable1 and my_variable2 exists\n",
    "print(my_variable1)\n",
    "print(my_variable2)"
   ],
   "metadata": {
    "collapsed": false
   }
  },
  {
   "cell_type": "markdown",
   "source": [
    "## global, nonlocal"
   ],
   "metadata": {
    "collapsed": false
   }
  },
  {
   "cell_type": "code",
   "execution_count": 33,
   "metadata": {
    "collapsed": true,
    "ExecuteTime": {
     "start_time": "2023-05-04T22:05:07.759633Z",
     "end_time": "2023-05-04T22:05:07.777979Z"
    }
   },
   "outputs": [
    {
     "name": "stdout",
     "output_type": "stream",
     "text": [
      "25\n",
      "20\n"
     ]
    }
   ],
   "source": [
    "# global variable\n",
    "a = 15\n",
    "b = 10\n",
    "\n",
    "# function to perform addition\n",
    "def add():\n",
    "    c = a + b\n",
    "    print(c)\n",
    "\n",
    "# calling a function\n",
    "add()\n",
    "\n",
    "# nonlocal keyword\n",
    "def fun():\n",
    "    var1 = 10\n",
    "\n",
    "    def gun():\n",
    "        # tell python explicitly that it\n",
    "        # has to access var1 initialized\n",
    "        # in fun on line 2\n",
    "        # using the keyword nonlocal\n",
    "        nonlocal var1\n",
    "\n",
    "        var1 = var1 + 10\n",
    "        print(var1)\n",
    "\n",
    "    gun()\n",
    "fun()"
   ]
  }
 ],
 "metadata": {
  "kernelspec": {
   "display_name": "Python 3",
   "language": "python",
   "name": "python3"
  },
  "language_info": {
   "codemirror_mode": {
    "name": "ipython",
    "version": 2
   },
   "file_extension": ".py",
   "mimetype": "text/x-python",
   "name": "python",
   "nbconvert_exporter": "python",
   "pygments_lexer": "ipython2",
   "version": "2.7.6"
  }
 },
 "nbformat": 4,
 "nbformat_minor": 0
}
