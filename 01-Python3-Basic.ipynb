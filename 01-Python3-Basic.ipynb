{
 "cells": [
  {
   "cell_type": "markdown",
   "metadata": {},
   "source": [
    "# Python3 Basic"
   ]
  },
  {
   "cell_type": "code",
   "execution_count": 43,
   "metadata": {
    "ExecuteTime": {
     "start_time": "2023-05-04T22:05:52.776363Z",
     "end_time": "2023-05-04T22:05:52.780831Z"
    },
    "collapsed": true
   },
   "outputs": [
    {
     "name": "stdout",
     "output_type": "stream",
     "text": [
      "Hello World\n"
     ]
    }
   ],
   "source": [
    "print(\"Hello World\")"
   ]
  },
  {
   "cell_type": "code",
   "execution_count": 44,
   "metadata": {
    "ExecuteTime": {
     "start_time": "2023-05-04T22:05:55.629565Z",
     "end_time": "2023-05-04T22:05:55.631958Z"
    }
   },
   "outputs": [
    {
     "name": "stdout",
     "output_type": "stream",
     "text": [
      "3\n",
      "4.5\n",
      "helloworld\n"
     ]
    }
   ],
   "source": [
    "# Python program to declare variables\n",
    "myNumber = 3\n",
    "print(myNumber)\n",
    "\n",
    "myNumber2 = 4.5\n",
    "print(myNumber2)\n",
    "\n",
    "myNumber = \"helloworld\"\n",
    "print(myNumber)"
   ]
  },
  {
   "cell_type": "code",
   "execution_count": 37,
   "metadata": {
    "ExecuteTime": {
     "start_time": "2023-05-04T22:05:36.421721Z",
     "end_time": "2023-05-04T22:05:36.423967Z"
    }
   },
   "outputs": [
    {
     "name": "stdout",
     "output_type": "stream",
     "text": [
      "[21, 40.5, 'String']\n"
     ]
    }
   ],
   "source": [
    "# creates an empty list\n",
    "nums = []\n",
    "\n",
    "# appending data in list\n",
    "nums.append(21)\n",
    "nums.append(40.5)\n",
    "nums.append(\"String\")\n",
    "\n",
    "print(nums)"
   ]
  },
  {
   "cell_type": "code",
   "execution_count": 38,
   "metadata": {
    "ExecuteTime": {
     "start_time": "2023-05-04T22:05:36.424912Z",
     "end_time": "2023-05-04T22:05:36.437631Z"
    }
   },
   "outputs": [
    {
     "name": "stdout",
     "output_type": "stream",
     "text": [
      "{1: 'Geeks', 2: 'For', 3: 'Geeks'}\n"
     ]
    }
   ],
   "source": [
    "# creates an empty dictionary\n",
    "test_dict = {}\n",
    "\n",
    "# putting values for dictionary\n",
    "test_dict = {1: 'Geeks', 2: 'For', 3: 'Geeks'}\n",
    "\n",
    "print(test_dict)"
   ]
  },
  {
   "cell_type": "code",
   "execution_count": 39,
   "metadata": {
    "ExecuteTime": {
     "start_time": "2023-05-04T22:05:36.429457Z",
     "end_time": "2023-05-04T22:05:36.438031Z"
    }
   },
   "outputs": [
    {
     "name": "stdout",
     "output_type": "stream",
     "text": [
      "('Geeks', 'For', 'Geeks')\n"
     ]
    }
   ],
   "source": [
    "# creates a tuple which is immutable\n",
    "tup = ('Geeks', 'For', 'Geeks')\n",
    "\n",
    "print(tup)"
   ]
  },
  {
   "cell_type": "code",
   "execution_count": 40,
   "metadata": {
    "ExecuteTime": {
     "start_time": "2023-05-04T22:05:36.431765Z",
     "end_time": "2023-05-04T22:05:36.438124Z"
    }
   },
   "outputs": [
    {
     "name": "stdout",
     "output_type": "stream",
     "text": [
      "{'For', 'Geeks'}\n"
     ]
    }
   ],
   "source": [
    "# define a set and its elements\n",
    "my_set = {\"Geeks\", \"For\", \"Geeks\"}\n",
    "# my_set = set([\"Geeks\", \"For\", \"Geeks\"])\n",
    "\n",
    "#as set doesn't have duplicate elements so, 1 geeks will not be printed\n",
    "print(my_set)"
   ]
  },
  {
   "cell_type": "code",
   "execution_count": 41,
   "metadata": {
    "ExecuteTime": {
     "start_time": "2023-05-04T22:05:36.434605Z",
     "end_time": "2023-05-04T22:05:39.065223Z"
    }
   },
   "outputs": [
    {
     "name": "stdout",
     "output_type": "stream",
     "text": [
      "Hello \n"
     ]
    }
   ],
   "source": [
    "# getting input from user\n",
    "name = input(\"Enter your name: \")\n",
    "\n",
    "# user entered the name 'harssh'\n",
    "print(\"Hello\", name.title())"
   ]
  },
  {
   "cell_type": "code",
   "execution_count": 42,
   "metadata": {
    "ExecuteTime": {
     "end_time": "2023-05-04T20:55:08.934074Z",
     "start_time": "2023-05-04T20:55:05.384361Z"
    }
   },
   "outputs": [
    {
     "ename": "ValueError",
     "evalue": "invalid literal for int() with base 10: ''",
     "output_type": "error",
     "traceback": [
      "\u001B[0;31m---------------------------------------------------------------------------\u001B[0m",
      "\u001B[0;31mValueError\u001B[0m                                Traceback (most recent call last)",
      "Cell \u001B[0;32mIn[42], line 4\u001B[0m\n\u001B[1;32m      1\u001B[0m \u001B[38;5;66;03m# accepting integer from the user\u001B[39;00m\n\u001B[1;32m      2\u001B[0m \u001B[38;5;66;03m# the return type of input() function is string ,\u001B[39;00m\n\u001B[1;32m      3\u001B[0m \u001B[38;5;66;03m# so we need to convert the input to integer\u001B[39;00m\n\u001B[0;32m----> 4\u001B[0m num1 \u001B[38;5;241m=\u001B[39m \u001B[38;5;28;43mint\u001B[39;49m\u001B[43m(\u001B[49m\u001B[38;5;28;43minput\u001B[39;49m\u001B[43m(\u001B[49m\u001B[38;5;124;43m\"\u001B[39;49m\u001B[38;5;124;43mEnter num1: \u001B[39;49m\u001B[38;5;124;43m\"\u001B[39;49m\u001B[43m)\u001B[49m\u001B[43m)\u001B[49m\n\u001B[1;32m      5\u001B[0m num2 \u001B[38;5;241m=\u001B[39m \u001B[38;5;28mint\u001B[39m(\u001B[38;5;28minput\u001B[39m(\u001B[38;5;124m\"\u001B[39m\u001B[38;5;124mEnter num2: \u001B[39m\u001B[38;5;124m\"\u001B[39m))\n\u001B[1;32m      7\u001B[0m num3 \u001B[38;5;241m=\u001B[39m num1 \u001B[38;5;241m*\u001B[39m num2\n",
      "\u001B[0;31mValueError\u001B[0m: invalid literal for int() with base 10: ''"
     ]
    }
   ],
   "source": [
    "# accepting integer from the user\n",
    "# the return type of input() function is string ,\n",
    "# so we need to convert the input to integer\n",
    "num1 = int(input(\"Enter num1: \"))\n",
    "num2 = int(input(\"Enter num2: \"))\n",
    "\n",
    "num3 = num1 * num2\n",
    "print(\"Product is: \", num3)"
   ]
  },
  {
   "cell_type": "code",
   "execution_count": null,
   "metadata": {
    "ExecuteTime": {
     "start_time": "2023-05-04T20:56:34.655402Z",
     "end_time": "2023-05-04T20:56:34.661422Z"
    }
   },
   "outputs": [],
   "source": [
    "# selection statement\n",
    "\n",
    "num1 = 34\n",
    "if num1 > 12:\n",
    "    print(\"Num1 is good\")\n",
    "elif num1 > 35:\n",
    "    print(\"Num2 is not gooooo....\")\n",
    "else:\n",
    "    print(\"Num2 is great\")"
   ]
  },
  {
   "cell_type": "code",
   "execution_count": 45,
   "outputs": [
    {
     "name": "stdout",
     "output_type": "stream",
     "text": [
      "hello\n",
      "hello again\n",
      "hello\n",
      "hello again\n"
     ]
    }
   ],
   "source": [
    "# functions\n",
    "def hello():\n",
    "    print(\"hello\")\n",
    "    print(\"hello again\")\n",
    "\n",
    "hello()\n",
    "# calling function\n",
    "hello()"
   ],
   "metadata": {
    "collapsed": false,
    "ExecuteTime": {
     "start_time": "2023-05-04T22:06:25.342980Z",
     "end_time": "2023-05-04T22:06:25.345365Z"
    }
   }
  },
  {
   "cell_type": "code",
   "execution_count": 46,
   "outputs": [
    {
     "name": "stdout",
     "output_type": "stream",
     "text": [
      "Started\n",
      "123\n"
     ]
    }
   ],
   "source": [
    "# function with main\n",
    "def get_integer():\n",
    "    result = int(input(\"Enter integer: \"))\n",
    "    return result\n",
    "\n",
    "\n",
    "def main():\n",
    "    print(\"Started\")\n",
    "\n",
    "    # calling the getInteger function and\n",
    "    # storing its returned value in the output variable\n",
    "    output = get_integer()\n",
    "    print(output)\n",
    "\n",
    "\n",
    "# now we are required to tell Python\n",
    "# for 'Main' function existence\n",
    "if __name__ == \"__main__\":\n",
    "    main()"
   ],
   "metadata": {
    "collapsed": false,
    "ExecuteTime": {
     "start_time": "2023-05-04T22:06:35.976464Z",
     "end_time": "2023-05-04T22:06:38.272613Z"
    }
   }
  },
  {
   "cell_type": "code",
   "execution_count": 47,
   "outputs": [
    {
     "name": "stdout",
     "output_type": "stream",
     "text": [
      "0 1 2 3 4 \n",
      "1 2 3 4 "
     ]
    }
   ],
   "source": [
    "# a simple for loop\n",
    "\n",
    "for step in range(5):\n",
    "    print(step, end=\" \")\n",
    "print()\n",
    "for step in range(1, 5, 1):\n",
    "    print(step, end=\" \")"
   ],
   "metadata": {
    "collapsed": false,
    "ExecuteTime": {
     "start_time": "2023-05-04T22:06:41.712528Z",
     "end_time": "2023-05-04T22:06:41.715921Z"
    }
   }
  },
  {
   "cell_type": "code",
   "execution_count": 48,
   "outputs": [
    {
     "name": "stdout",
     "output_type": "stream",
     "text": [
      "0 1 2 3 4 "
     ]
    }
   ],
   "source": [
    "# a simple while loop\n",
    "step = 0\n",
    "while step < 5:\n",
    "    print(step, end=\" \")\n",
    "    step = step + 1"
   ],
   "metadata": {
    "collapsed": false,
    "ExecuteTime": {
     "start_time": "2023-05-04T22:06:44.354014Z",
     "end_time": "2023-05-04T22:06:44.357107Z"
    }
   }
  },
  {
   "cell_type": "code",
   "execution_count": 49,
   "outputs": [
    {
     "name": "stdout",
     "output_type": "stream",
     "text": [
      "85.0\n"
     ]
    }
   ],
   "source": [
    "# math module\n",
    "import math\n",
    "\n",
    "\n",
    "def main():\n",
    "    num = -85\n",
    "\n",
    "    # fabs is used to get the absolute\n",
    "    # value of a decimal\n",
    "    num = math.fabs(num)\n",
    "    print(num)\n",
    "\n",
    "\n",
    "if __name__ == \"__main__\":\n",
    "    main()"
   ],
   "metadata": {
    "collapsed": false,
    "ExecuteTime": {
     "start_time": "2023-05-04T22:06:48.342188Z",
     "end_time": "2023-05-04T22:06:48.355997Z"
    }
   }
  }
 ],
 "metadata": {
  "kernelspec": {
   "display_name": "Python 3 (ipykernel)",
   "language": "python",
   "name": "python3"
  },
  "language_info": {
   "codemirror_mode": {
    "name": "ipython",
    "version": 3
   },
   "file_extension": ".py",
   "mimetype": "text/x-python",
   "name": "python",
   "nbconvert_exporter": "python",
   "pygments_lexer": "ipython3",
   "version": "3.9.16"
  }
 },
 "nbformat": 4,
 "nbformat_minor": 1
}
